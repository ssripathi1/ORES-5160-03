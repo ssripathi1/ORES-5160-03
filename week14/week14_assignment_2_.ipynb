{
  "cells": [
    {
      "cell_type": "markdown",
      "metadata": {
        "id": "view-in-github",
        "colab_type": "text"
      },
      "source": [
        "<a href=\"https://colab.research.google.com/github/ssripathi1/ORES-5160-03/blob/main/week14/week14_assignment_2_.ipynb\" target=\"_parent\"><img src=\"https://colab.research.google.com/assets/colab-badge.svg\" alt=\"Open In Colab\"/></a>"
      ]
    },
    {
      "cell_type": "markdown",
      "metadata": {
        "id": "4bQ28GqWAwpe",
        "nbgrader": {
          "grade": false,
          "grade_id": "intro",
          "locked": true,
          "schema_version": 1,
          "solution": false
        }
      },
      "source": [
        "# Working with multiple data sets\n",
        "\n",
        "There are two data files that we'll be working with for this week's assignment.  They are described below.  Load those data files in with Pandas and then work to answering each of the questions below.  All of these files are found in our usual s3 bucket: `https://hds5210-data.s3.amazonaws.com`\n",
        "\n",
        "## npidata.csv\n",
        "\n",
        "This file is basic information about every healthcare provider in the US.  It has one row for each NPI (National Provider Identifier).  It contains information such as the provider's name and address.\n",
        "\n",
        "* https://hds5210-data.s3.amazonaws.com/npidata.csv\n",
        "\n",
        "\n",
        "## cmsYYYY.csv\n",
        "\n",
        "These are files about what kinds of procedures and patients providers in the US are serving under CMS programs, Medicare and Medicaid.  Each contains various statistics about providers over the course of a year.  There are three of these, for the years 2014, 2015, and 2016.  These files, however, don't contain information about the provider such as where the provider is located.\n",
        "\n",
        "* https://hds5210-data.s3.amazonaws.com/cms2014.csv\n",
        "* https://hds5210-data.s3.amazonaws.com/cms2015.csv\n",
        "* https://hds5210-data.s3.amazonaws.com/cms2016.csv\n",
        "\n",
        "## Our Goals\n",
        "\n",
        "For this assignment, we're going to want to compute some statistics based on the data in the **cms** files, but aggregate that data based on information in the **npidata** file.  As in last week's assignment, you'll need to store your answers in a variable called `answer` at the end of each step."
      ]
    },
    {
      "cell_type": "code",
      "execution_count": 1,
      "metadata": {
        "id": "B2WNtqb1Awpg",
        "nbgrader": {
          "grade": false,
          "grade_id": "import",
          "locked": true,
          "schema_version": 1,
          "solution": false
        }
      },
      "outputs": [],
      "source": [
        "import pandas as pd"
      ]
    },
    {
      "cell_type": "markdown",
      "metadata": {
        "id": "sudfMt65Awpg",
        "nbgrader": {
          "grade": false,
          "grade_id": "01-intro",
          "locked": true,
          "schema_version": 1,
          "solution": false
        }
      },
      "source": [
        "## Part 1\n",
        "\n",
        "In this first step, we'll need to merge together all of the **cms** files into a single dataframe.  Be careful that these files might not be identical, so you'll have to look a little bit to figure out how to merge them.\n",
        "\n",
        "As you are merging them, make sure that you retain information about which file (i.e. which year) the data came from.  Call that new columns `year`.\n",
        "\n",
        "In your `answer` variable, provide a complete data frame that contains all of the rows and columns from the **cms** files, plus an additional column to store the year/file that particular row came from.\n",
        "\n",
        "The assertion tests will give you a good idea as to if you're merging the files correctly."
      ]
    },
    {
      "cell_type": "code",
      "execution_count": 2,
      "metadata": {
        "id": "_HAQxjFMtWba"
      },
      "outputs": [],
      "source": [
        "import pandas as pd\n",
        "\n",
        "# Load CMS files for 2014, 2015, and 2016\n",
        "cms2014_url = \"https://hds5210-data.s3.amazonaws.com/cms2014.csv\"\n",
        "cms2015_url = \"https://hds5210-data.s3.amazonaws.com/cms2015.csv\"\n",
        "cms2016_url = \"https://hds5210-data.s3.amazonaws.com/cms2016.csv\"\n",
        "\n",
        "cms2014 = pd.read_csv(cms2014_url)\n",
        "cms2015 = pd.read_csv(cms2015_url)\n",
        "cms2016 = pd.read_csv(cms2016_url)\n",
        "\n",
        "# Add 'year' column to each CMS file\n",
        "cms2014['year'] = 2014\n",
        "cms2015['year'] = 2015\n",
        "cms2016['year'] = 2016\n",
        "\n",
        "# Concatenate the CMS files\n",
        "answer = pd.concat([cms2014, cms2015, cms2016])\n",
        "\n",
        "# Define the expected columns\n",
        "expected_columns = [\n",
        "    'year', 'nbr', 'npi', 'provider_type', 'medicare_participation_indicator',\n",
        "    'number_of_hcpcs', 'total_services', 'total_unique_benes',\n",
        "    'total_submitted_chrg_amt', 'total_medicare_allowed_amt',\n",
        "    'total_medicare_payment_amt', 'total_medicare_stnd_amt',\n",
        "    'drug_suppress_indicator', 'number_of_drug_hcpcs', 'total_drug_services',\n",
        "    'total_drug_unique_benes', 'total_drug_submitted_chrg_amt',\n",
        "    'total_drug_medicare_allowed_amt', 'total_drug_medicare_payment_amt',\n",
        "    'total_drug_medicare_stnd_amt', 'med_suppress_indicator',\n",
        "    'number_of_med_hcpcs', 'total_med_services', 'total_med_unique_benes',\n",
        "    'total_med_submitted_chrg_amt', 'total_med_medicare_allowed_amt',\n",
        "    'total_med_medicare_payment_amt', 'total_med_medicare_stnd_amt',\n",
        "    'beneficiary_average_age', 'beneficiary_age_less_65_count',\n",
        "    'beneficiary_age_65_74_count', 'beneficiary_age_75_84_count',\n",
        "    'beneficiary_age_greater_84_count', 'beneficiary_female_count',\n",
        "    'beneficiary_male_count', 'beneficiary_race_white_count',\n",
        "    'beneficiary_race_black_count', 'beneficiary_race_api_count',\n",
        "    'beneficiary_race_hispanic_count', 'beneficiary_race_natind_count',\n",
        "    'beneficiary_race_other_count', 'beneficiary_nondual_count',\n",
        "    'beneficiary_dual_count', 'beneficiary_cc_afib_percent',\n",
        "    'beneficiary_cc_alzrdsd_percent', 'beneficiary_cc_asthma_percent',\n",
        "    'beneficiary_cc_cancer_percent', 'beneficiary_cc_chf_percent',\n",
        "    'beneficiary_cc_ckd_percent', 'beneficiary_cc_copd_percent',\n",
        "    'beneficiary_cc_depr_percent', 'beneficiary_cc_diab_percent',\n",
        "    'beneficiary_cc_hyperl_percent', 'beneficiary_cc_hypert_percent',\n",
        "    'beneficiary_cc_ihd_percent', 'beneficiary_cc_ost_percent',\n",
        "    'beneficiary_cc_raoa_percent', 'beneficiary_cc_schiot_percent',\n",
        "    'beneficiary_cc_strk_percent', 'BENEFICIARY_AVERAGE_RISK_SCORE'\n",
        "]\n",
        "\n",
        "# Apply the column filter\n",
        "answer = answer[expected_columns]\n"
      ]
    },
    {
      "cell_type": "code",
      "source": [
        "cms2016.columns = cms2016.columns.str.lower()"
      ],
      "metadata": {
        "id": "ip5AbuGFKE6V"
      },
      "execution_count": 3,
      "outputs": []
    },
    {
      "cell_type": "code",
      "source": [
        "answer = pd.concat([cms2014, cms2015, cms2016])"
      ],
      "metadata": {
        "id": "M9BOaZmSKHJT"
      },
      "execution_count": 4,
      "outputs": []
    },
    {
      "cell_type": "code",
      "execution_count": 5,
      "metadata": {
        "id": "Ckx0RPLEnctv"
      },
      "outputs": [],
      "source": [
        "assert(answer.shape == (193862, 61))\n",
        "assert(list(answer['year'].unique()) == [2014,2015,2016])\n",
        "assert(set(answer.columns.str.lower()) == set(['year', 'nbr', 'npi', 'provider_type',\n",
        "       'medicare_participation_indicator', 'number_of_hcpcs', 'total_services',\n",
        "       'total_unique_benes', 'total_submitted_chrg_amt',\n",
        "       'total_medicare_allowed_amt', 'total_medicare_payment_amt',\n",
        "       'total_medicare_stnd_amt', 'drug_suppress_indicator',\n",
        "       'number_of_drug_hcpcs', 'total_drug_services',\n",
        "       'total_drug_unique_benes', 'total_drug_submitted_chrg_amt',\n",
        "       'total_drug_medicare_allowed_amt', 'total_drug_medicare_payment_amt',\n",
        "       'total_drug_medicare_stnd_amt', 'med_suppress_indicator',\n",
        "       'number_of_med_hcpcs', 'total_med_services', 'total_med_unique_benes',\n",
        "       'total_med_submitted_chrg_amt', 'total_med_medicare_allowed_amt',\n",
        "       'total_med_medicare_payment_amt', 'total_med_medicare_stnd_amt',\n",
        "       'beneficiary_average_age', 'beneficiary_age_less_65_count',\n",
        "       'beneficiary_age_65_74_count', 'beneficiary_age_75_84_count',\n",
        "       'beneficiary_age_greater_84_count', 'beneficiary_female_count',\n",
        "       'beneficiary_male_count', 'beneficiary_race_white_count',\n",
        "       'beneficiary_race_black_count', 'beneficiary_race_api_count',\n",
        "       'beneficiary_race_hispanic_count', 'beneficiary_race_natind_count',\n",
        "       'beneficiary_race_other_count', 'beneficiary_nondual_count',\n",
        "       'beneficiary_dual_count', 'beneficiary_cc_afib_percent',\n",
        "       'beneficiary_cc_alzrdsd_percent', 'beneficiary_cc_asthma_percent',\n",
        "       'beneficiary_cc_cancer_percent', 'beneficiary_cc_chf_percent',\n",
        "       'beneficiary_cc_ckd_percent', 'beneficiary_cc_copd_percent',\n",
        "       'beneficiary_cc_depr_percent', 'beneficiary_cc_diab_percent',\n",
        "       'beneficiary_cc_hyperl_percent', 'beneficiary_cc_hypert_percent',\n",
        "       'beneficiary_cc_ihd_percent', 'beneficiary_cc_ost_percent',\n",
        "       'beneficiary_cc_raoa_percent', 'beneficiary_cc_schiot_percent',\n",
        "       'beneficiary_cc_strk_percent', 'beneficiary_average_risk_score']))"
      ]
    },
    {
      "cell_type": "markdown",
      "metadata": {
        "id": "77sjXAf2Awpg",
        "nbgrader": {
          "grade": false,
          "grade_id": "02-intro",
          "locked": true,
          "schema_version": 1,
          "solution": false
        }
      },
      "source": [
        "## Part 2\n",
        "\n",
        "In this next part, we're going to join the **cms** data with the provider information in the **https://hds5210-data.s3.amazonaws.com/npidata.csv** file.  In this join, we don't want to lose any records from the **cms** files, even if no matching provider exists in the **npidata** file.  However, we don't care about any providers from the **npidata** file that don't have records in the **cms** files.  Those providers can be ignored.\n",
        "\n",
        "Join the data files together to create one unified data frame called `answer`.  This dataframe should have all the columns from both **cms** and **npidata** files, joined together using the `npi` column.  \n",
        "\n",
        "Note that `npi` is unique in the **npidata** file."
      ]
    },
    {
      "cell_type": "code",
      "execution_count": 6,
      "metadata": {
        "colab": {
          "base_uri": "https://localhost:8080/"
        },
        "id": "bv5pi5Ok4x0X",
        "outputId": "d62590e4-1a25-47ae-bb5e-fe3109aebb65"
      },
      "outputs": [
        {
          "output_type": "stream",
          "name": "stderr",
          "text": [
            "<ipython-input-6-659f568ac495>:3: DtypeWarning: Columns (18,33) have mixed types. Specify dtype option on import or set low_memory=False.\n",
            "  npidata = pd.read_csv(npidata_url)\n"
          ]
        }
      ],
      "source": [
        "# Load npidata.csv\n",
        "npidata_url = \"https://hds5210-data.s3.amazonaws.com/npidata.csv\"\n",
        "npidata = pd.read_csv(npidata_url)\n",
        "\n"
      ]
    },
    {
      "cell_type": "code",
      "source": [
        "npidata.shape"
      ],
      "metadata": {
        "colab": {
          "base_uri": "https://localhost:8080/"
        },
        "id": "7EtQ5ow4KreJ",
        "outputId": "227e2a52-486e-491c-ffa7-0533dd8b8d17"
      },
      "execution_count": 7,
      "outputs": [
        {
          "output_type": "execute_result",
          "data": {
            "text/plain": [
              "(251661, 43)"
            ]
          },
          "metadata": {},
          "execution_count": 7
        }
      ]
    },
    {
      "cell_type": "code",
      "source": [
        "answer = pd.merge(answer, npidata, left_on='npi', right_on='NPI', how='left')"
      ],
      "metadata": {
        "id": "W1ti8_SbKnm0"
      },
      "execution_count": 8,
      "outputs": []
    },
    {
      "cell_type": "code",
      "source": [
        "answer.shape"
      ],
      "metadata": {
        "colab": {
          "base_uri": "https://localhost:8080/"
        },
        "id": "yUJvpH0UJmNr",
        "outputId": "d9cdcb00-751b-4171-94c0-7203fa4800a6"
      },
      "execution_count": 9,
      "outputs": [
        {
          "output_type": "execute_result",
          "data": {
            "text/plain": [
              "(193862, 104)"
            ]
          },
          "metadata": {},
          "execution_count": 9
        }
      ]
    },
    {
      "cell_type": "code",
      "execution_count": 10,
      "metadata": {
        "id": "XVbnRt5o3oKc",
        "scrolled": true
      },
      "outputs": [],
      "source": [
        "import numpy\n",
        "assert(answer.shape == (193862, 104))\n",
        "assert(list(answer['Provider Business Mailing Address State Name'].unique()) == ['IL','MO',numpy.nan,'WY'])\n",
        "assert(list(answer.groupby('Provider Business Mailing Address State Name').NPI.count()) == [111520, 53366, 4805])"
      ]
    },
    {
      "cell_type": "code",
      "execution_count": 11,
      "metadata": {
        "colab": {
          "base_uri": "https://localhost:8080/"
        },
        "id": "AqGbA6FLIJio",
        "outputId": "f1ccb581-eb9d-47db-d807-9360252c4e36"
      },
      "outputs": [
        {
          "output_type": "stream",
          "name": "stdout",
          "text": [
            "(193862, 104)\n",
            "['IL' 'MO' nan 'WY']\n",
            "Provider Business Mailing Address State Name\n",
            "IL    111520\n",
            "MO     53366\n",
            "WY      4805\n",
            "Name: NPI, dtype: int64\n"
          ]
        }
      ],
      "source": [
        "print(answer.shape)\n",
        "print(answer['Provider Business Mailing Address State Name'].unique())\n",
        "print(answer.groupby('Provider Business Mailing Address State Name').NPI.count())"
      ]
    },
    {
      "cell_type": "code",
      "execution_count": 12,
      "metadata": {
        "colab": {
          "base_uri": "https://localhost:8080/"
        },
        "id": "l1ua4Yak4_vW",
        "outputId": "3ecc08b9-c88e-4cc0-c1d3-0a940848c548"
      },
      "outputs": [
        {
          "output_type": "stream",
          "name": "stdout",
          "text": [
            "['IL' 'MO' nan 'WY']\n",
            "Provider Business Mailing Address State Name\n",
            "IL    111520\n",
            "MO     53366\n",
            "WY      4805\n",
            "Name: NPI, dtype: int64\n"
          ]
        }
      ],
      "source": [
        "# Print unique values and counts for 'Provider Business Mailing Address State Name'\n",
        "print(answer['Provider Business Mailing Address State Name'].unique())\n",
        "print(answer.groupby('Provider Business Mailing Address State Name').NPI.count())\n"
      ]
    },
    {
      "cell_type": "markdown",
      "metadata": {
        "id": "ID5cZ8ZZAwph",
        "nbgrader": {
          "grade": false,
          "grade_id": "03-intro",
          "locked": true,
          "schema_version": 1,
          "solution": false
        }
      },
      "source": [
        "## Part 3\n",
        "\n",
        "If you did everything right above, you'll notice that grouping by a column with NaN in it will cause some rows to disappear from the aggregation test.  So, let's create a new column called `'State'` that has the same value as whatever is in the `'Provider Business Mailing Address State Name'` column or a value of `'XX'` if there is no state information.\n",
        "\n",
        "Set `answer` to be your final data frame with the new `'State'` column added."
      ]
    },
    {
      "cell_type": "code",
      "execution_count": 13,
      "metadata": {
        "id": "NwhhUGkkIJip"
      },
      "outputs": [],
      "source": [
        "answer['State'] = answer['Provider Business Mailing Address State Name'].fillna('XX')"
      ]
    },
    {
      "cell_type": "code",
      "execution_count": 14,
      "metadata": {
        "colab": {
          "base_uri": "https://localhost:8080/",
          "height": 686
        },
        "id": "29hK_EeyIJip",
        "outputId": "6e02eb9b-e6ba-4eb3-a5a5-581c2b1cb068"
      },
      "outputs": [
        {
          "output_type": "execute_result",
          "data": {
            "text/plain": [
              "            nbr         npi                    provider_type  \\\n",
              "0             1  1003000134                        Pathology   \n",
              "1            19  1003001249               Physical Therapist   \n",
              "2            21  1003001322  Mass Immunization Roster Biller   \n",
              "3            37  1003002486                     Chiropractic   \n",
              "4            73  1003005430            Clinical Psychologist   \n",
              "...         ...         ...                              ...   \n",
              "193857  1053890  1992995542                    Ophthalmology   \n",
              "193858  1053892  1992995591          Obstetrics & Gynecology   \n",
              "193859  1053900  1992996219                        Neurology   \n",
              "193860  1053901  1992996284                Internal Medicine   \n",
              "193861  1053906  1992996458                   Sleep Medicine   \n",
              "\n",
              "       medicare_participation_indicator  number_of_hcpcs  total_services  \\\n",
              "0                                     Y               13          8643.0   \n",
              "1                                     Y                4          1221.0   \n",
              "2                                     Y                7           788.0   \n",
              "3                                     Y                2           142.0   \n",
              "4                                     Y                3           130.0   \n",
              "...                                 ...              ...             ...   \n",
              "193857                                Y               49          2623.0   \n",
              "193858                                Y               18            27.0   \n",
              "193859                                Y               25          1121.0   \n",
              "193860                                Y               21          4501.6   \n",
              "193861                                Y               14          1204.0   \n",
              "\n",
              "        total_unique_benes  total_submitted_chrg_amt  \\\n",
              "0                     4276                1357139.00   \n",
              "1                       69                  88686.28   \n",
              "2                      370                  21640.24   \n",
              "3                       22                   7458.44   \n",
              "4                       11                  20640.00   \n",
              "...                    ...                       ...   \n",
              "193857                 611                 845229.00   \n",
              "193858                  17                   9800.23   \n",
              "193859                 620                 565393.00   \n",
              "193860                 381                 194576.60   \n",
              "193861                 480                 323712.00   \n",
              "\n",
              "        total_medicare_allowed_amt  total_medicare_payment_amt  ...  \\\n",
              "0                        321641.88                   245364.34  ...   \n",
              "1                         34060.09                    26055.17  ...   \n",
              "2                         21634.91                    21199.22  ...   \n",
              "3                          5037.51                     3727.01  ...   \n",
              "4                         14968.22                    11334.69  ...   \n",
              "...                            ...                         ...  ...   \n",
              "193857                   354741.85                   265925.26  ...   \n",
              "193858                     2929.11                     2160.71  ...   \n",
              "193859                   163926.41                   123229.09  ...   \n",
              "193860                   163050.75                   126543.18  ...   \n",
              "193861                   127595.42                    93749.86  ...   \n",
              "\n",
              "        Provider Business Practice Location Address Country Code (If outside U.S.)  \\\n",
              "0                                                      US                            \n",
              "1                                                      US                            \n",
              "2                                                      US                            \n",
              "3                                                      US                            \n",
              "4                                                      US                            \n",
              "...                                                   ...                            \n",
              "193857                                                 US                            \n",
              "193858                                                 US                            \n",
              "193859                                                 US                            \n",
              "193860                                                 US                            \n",
              "193861                                                 US                            \n",
              "\n",
              "       Provider Business Practice Location Address Telephone Number  \\\n",
              "0                                              8475702040             \n",
              "1                                              2174467878             \n",
              "2                                              6605622755             \n",
              "3                                              6362399997             \n",
              "4                                              7089237400             \n",
              "...                                                   ...             \n",
              "193857                                         3125672795             \n",
              "193858                                         7732938777             \n",
              "193859                                         3143627845             \n",
              "193860                                         8473778440             \n",
              "193861                                         5733022715             \n",
              "\n",
              "        Provider Business Practice Location Address Fax Number  \\\n",
              "0                                            8.477335e+09        \n",
              "1                                            2.174468e+09        \n",
              "2                                            6.605625e+09        \n",
              "3                                            6.362400e+09        \n",
              "4                                            7.089237e+09        \n",
              "...                                                   ...        \n",
              "193857                                       3.125679e+09        \n",
              "193858                                       7.738781e+09        \n",
              "193859                                       3.143620e+09        \n",
              "193860                                       8.473779e+09        \n",
              "193861                                       5.733023e+09        \n",
              "\n",
              "        Provider Enumeration Date  Last Update Date  \\\n",
              "0                      08/31/2007        08/06/2008   \n",
              "1                      09/11/2007        07/13/2010   \n",
              "2                      09/10/2007        09/10/2007   \n",
              "3                      09/19/2007        02/19/2019   \n",
              "4                      10/22/2007        10/22/2007   \n",
              "...                           ...               ...   \n",
              "193857                 07/30/2007        04/10/2017   \n",
              "193858                 07/30/2007        10/14/2015   \n",
              "193859                 08/05/2007        01/24/2018   \n",
              "193860                 08/05/2007        08/05/2007   \n",
              "193861                 08/08/2007        04/19/2018   \n",
              "\n",
              "        NPI Deactivation Reason Code  NPI Deactivation Date  \\\n",
              "0                                NaN                    NaN   \n",
              "1                                NaN                    NaN   \n",
              "2                                NaN                    NaN   \n",
              "3                                NaN                    NaN   \n",
              "4                                NaN                    NaN   \n",
              "...                              ...                    ...   \n",
              "193857                           NaN                    NaN   \n",
              "193858                           NaN                    NaN   \n",
              "193859                           NaN                    NaN   \n",
              "193860                           NaN                    NaN   \n",
              "193861                           NaN                    NaN   \n",
              "\n",
              "        NPI Reactivation Date  Provider Gender Code State  \n",
              "0                         NaN                     M    IL  \n",
              "1                         NaN                     M    IL  \n",
              "2                         NaN                   NaN    MO  \n",
              "3                         NaN                     F    MO  \n",
              "4                         NaN                     F    IL  \n",
              "...                       ...                   ...   ...  \n",
              "193857                    NaN                     M    IL  \n",
              "193858                    NaN                     M    IL  \n",
              "193859                    NaN                     M    MO  \n",
              "193860                    NaN                     F    IL  \n",
              "193861                    NaN                     M    MO  \n",
              "\n",
              "[193862 rows x 105 columns]"
            ],
            "text/html": [
              "\n",
              "  <div id=\"df-890d8f15-5cc3-4c5c-93a7-a9fa3f793067\" class=\"colab-df-container\">\n",
              "    <div>\n",
              "<style scoped>\n",
              "    .dataframe tbody tr th:only-of-type {\n",
              "        vertical-align: middle;\n",
              "    }\n",
              "\n",
              "    .dataframe tbody tr th {\n",
              "        vertical-align: top;\n",
              "    }\n",
              "\n",
              "    .dataframe thead th {\n",
              "        text-align: right;\n",
              "    }\n",
              "</style>\n",
              "<table border=\"1\" class=\"dataframe\">\n",
              "  <thead>\n",
              "    <tr style=\"text-align: right;\">\n",
              "      <th></th>\n",
              "      <th>nbr</th>\n",
              "      <th>npi</th>\n",
              "      <th>provider_type</th>\n",
              "      <th>medicare_participation_indicator</th>\n",
              "      <th>number_of_hcpcs</th>\n",
              "      <th>total_services</th>\n",
              "      <th>total_unique_benes</th>\n",
              "      <th>total_submitted_chrg_amt</th>\n",
              "      <th>total_medicare_allowed_amt</th>\n",
              "      <th>total_medicare_payment_amt</th>\n",
              "      <th>...</th>\n",
              "      <th>Provider Business Practice Location Address Country Code (If outside U.S.)</th>\n",
              "      <th>Provider Business Practice Location Address Telephone Number</th>\n",
              "      <th>Provider Business Practice Location Address Fax Number</th>\n",
              "      <th>Provider Enumeration Date</th>\n",
              "      <th>Last Update Date</th>\n",
              "      <th>NPI Deactivation Reason Code</th>\n",
              "      <th>NPI Deactivation Date</th>\n",
              "      <th>NPI Reactivation Date</th>\n",
              "      <th>Provider Gender Code</th>\n",
              "      <th>State</th>\n",
              "    </tr>\n",
              "  </thead>\n",
              "  <tbody>\n",
              "    <tr>\n",
              "      <th>0</th>\n",
              "      <td>1</td>\n",
              "      <td>1003000134</td>\n",
              "      <td>Pathology</td>\n",
              "      <td>Y</td>\n",
              "      <td>13</td>\n",
              "      <td>8643.0</td>\n",
              "      <td>4276</td>\n",
              "      <td>1357139.00</td>\n",
              "      <td>321641.88</td>\n",
              "      <td>245364.34</td>\n",
              "      <td>...</td>\n",
              "      <td>US</td>\n",
              "      <td>8475702040</td>\n",
              "      <td>8.477335e+09</td>\n",
              "      <td>08/31/2007</td>\n",
              "      <td>08/06/2008</td>\n",
              "      <td>NaN</td>\n",
              "      <td>NaN</td>\n",
              "      <td>NaN</td>\n",
              "      <td>M</td>\n",
              "      <td>IL</td>\n",
              "    </tr>\n",
              "    <tr>\n",
              "      <th>1</th>\n",
              "      <td>19</td>\n",
              "      <td>1003001249</td>\n",
              "      <td>Physical Therapist</td>\n",
              "      <td>Y</td>\n",
              "      <td>4</td>\n",
              "      <td>1221.0</td>\n",
              "      <td>69</td>\n",
              "      <td>88686.28</td>\n",
              "      <td>34060.09</td>\n",
              "      <td>26055.17</td>\n",
              "      <td>...</td>\n",
              "      <td>US</td>\n",
              "      <td>2174467878</td>\n",
              "      <td>2.174468e+09</td>\n",
              "      <td>09/11/2007</td>\n",
              "      <td>07/13/2010</td>\n",
              "      <td>NaN</td>\n",
              "      <td>NaN</td>\n",
              "      <td>NaN</td>\n",
              "      <td>M</td>\n",
              "      <td>IL</td>\n",
              "    </tr>\n",
              "    <tr>\n",
              "      <th>2</th>\n",
              "      <td>21</td>\n",
              "      <td>1003001322</td>\n",
              "      <td>Mass Immunization Roster Biller</td>\n",
              "      <td>Y</td>\n",
              "      <td>7</td>\n",
              "      <td>788.0</td>\n",
              "      <td>370</td>\n",
              "      <td>21640.24</td>\n",
              "      <td>21634.91</td>\n",
              "      <td>21199.22</td>\n",
              "      <td>...</td>\n",
              "      <td>US</td>\n",
              "      <td>6605622755</td>\n",
              "      <td>6.605625e+09</td>\n",
              "      <td>09/10/2007</td>\n",
              "      <td>09/10/2007</td>\n",
              "      <td>NaN</td>\n",
              "      <td>NaN</td>\n",
              "      <td>NaN</td>\n",
              "      <td>NaN</td>\n",
              "      <td>MO</td>\n",
              "    </tr>\n",
              "    <tr>\n",
              "      <th>3</th>\n",
              "      <td>37</td>\n",
              "      <td>1003002486</td>\n",
              "      <td>Chiropractic</td>\n",
              "      <td>Y</td>\n",
              "      <td>2</td>\n",
              "      <td>142.0</td>\n",
              "      <td>22</td>\n",
              "      <td>7458.44</td>\n",
              "      <td>5037.51</td>\n",
              "      <td>3727.01</td>\n",
              "      <td>...</td>\n",
              "      <td>US</td>\n",
              "      <td>6362399997</td>\n",
              "      <td>6.362400e+09</td>\n",
              "      <td>09/19/2007</td>\n",
              "      <td>02/19/2019</td>\n",
              "      <td>NaN</td>\n",
              "      <td>NaN</td>\n",
              "      <td>NaN</td>\n",
              "      <td>F</td>\n",
              "      <td>MO</td>\n",
              "    </tr>\n",
              "    <tr>\n",
              "      <th>4</th>\n",
              "      <td>73</td>\n",
              "      <td>1003005430</td>\n",
              "      <td>Clinical Psychologist</td>\n",
              "      <td>Y</td>\n",
              "      <td>3</td>\n",
              "      <td>130.0</td>\n",
              "      <td>11</td>\n",
              "      <td>20640.00</td>\n",
              "      <td>14968.22</td>\n",
              "      <td>11334.69</td>\n",
              "      <td>...</td>\n",
              "      <td>US</td>\n",
              "      <td>7089237400</td>\n",
              "      <td>7.089237e+09</td>\n",
              "      <td>10/22/2007</td>\n",
              "      <td>10/22/2007</td>\n",
              "      <td>NaN</td>\n",
              "      <td>NaN</td>\n",
              "      <td>NaN</td>\n",
              "      <td>F</td>\n",
              "      <td>IL</td>\n",
              "    </tr>\n",
              "    <tr>\n",
              "      <th>...</th>\n",
              "      <td>...</td>\n",
              "      <td>...</td>\n",
              "      <td>...</td>\n",
              "      <td>...</td>\n",
              "      <td>...</td>\n",
              "      <td>...</td>\n",
              "      <td>...</td>\n",
              "      <td>...</td>\n",
              "      <td>...</td>\n",
              "      <td>...</td>\n",
              "      <td>...</td>\n",
              "      <td>...</td>\n",
              "      <td>...</td>\n",
              "      <td>...</td>\n",
              "      <td>...</td>\n",
              "      <td>...</td>\n",
              "      <td>...</td>\n",
              "      <td>...</td>\n",
              "      <td>...</td>\n",
              "      <td>...</td>\n",
              "      <td>...</td>\n",
              "    </tr>\n",
              "    <tr>\n",
              "      <th>193857</th>\n",
              "      <td>1053890</td>\n",
              "      <td>1992995542</td>\n",
              "      <td>Ophthalmology</td>\n",
              "      <td>Y</td>\n",
              "      <td>49</td>\n",
              "      <td>2623.0</td>\n",
              "      <td>611</td>\n",
              "      <td>845229.00</td>\n",
              "      <td>354741.85</td>\n",
              "      <td>265925.26</td>\n",
              "      <td>...</td>\n",
              "      <td>US</td>\n",
              "      <td>3125672795</td>\n",
              "      <td>3.125679e+09</td>\n",
              "      <td>07/30/2007</td>\n",
              "      <td>04/10/2017</td>\n",
              "      <td>NaN</td>\n",
              "      <td>NaN</td>\n",
              "      <td>NaN</td>\n",
              "      <td>M</td>\n",
              "      <td>IL</td>\n",
              "    </tr>\n",
              "    <tr>\n",
              "      <th>193858</th>\n",
              "      <td>1053892</td>\n",
              "      <td>1992995591</td>\n",
              "      <td>Obstetrics &amp; Gynecology</td>\n",
              "      <td>Y</td>\n",
              "      <td>18</td>\n",
              "      <td>27.0</td>\n",
              "      <td>17</td>\n",
              "      <td>9800.23</td>\n",
              "      <td>2929.11</td>\n",
              "      <td>2160.71</td>\n",
              "      <td>...</td>\n",
              "      <td>US</td>\n",
              "      <td>7732938777</td>\n",
              "      <td>7.738781e+09</td>\n",
              "      <td>07/30/2007</td>\n",
              "      <td>10/14/2015</td>\n",
              "      <td>NaN</td>\n",
              "      <td>NaN</td>\n",
              "      <td>NaN</td>\n",
              "      <td>M</td>\n",
              "      <td>IL</td>\n",
              "    </tr>\n",
              "    <tr>\n",
              "      <th>193859</th>\n",
              "      <td>1053900</td>\n",
              "      <td>1992996219</td>\n",
              "      <td>Neurology</td>\n",
              "      <td>Y</td>\n",
              "      <td>25</td>\n",
              "      <td>1121.0</td>\n",
              "      <td>620</td>\n",
              "      <td>565393.00</td>\n",
              "      <td>163926.41</td>\n",
              "      <td>123229.09</td>\n",
              "      <td>...</td>\n",
              "      <td>US</td>\n",
              "      <td>3143627845</td>\n",
              "      <td>3.143620e+09</td>\n",
              "      <td>08/05/2007</td>\n",
              "      <td>01/24/2018</td>\n",
              "      <td>NaN</td>\n",
              "      <td>NaN</td>\n",
              "      <td>NaN</td>\n",
              "      <td>M</td>\n",
              "      <td>MO</td>\n",
              "    </tr>\n",
              "    <tr>\n",
              "      <th>193860</th>\n",
              "      <td>1053901</td>\n",
              "      <td>1992996284</td>\n",
              "      <td>Internal Medicine</td>\n",
              "      <td>Y</td>\n",
              "      <td>21</td>\n",
              "      <td>4501.6</td>\n",
              "      <td>381</td>\n",
              "      <td>194576.60</td>\n",
              "      <td>163050.75</td>\n",
              "      <td>126543.18</td>\n",
              "      <td>...</td>\n",
              "      <td>US</td>\n",
              "      <td>8473778440</td>\n",
              "      <td>8.473779e+09</td>\n",
              "      <td>08/05/2007</td>\n",
              "      <td>08/05/2007</td>\n",
              "      <td>NaN</td>\n",
              "      <td>NaN</td>\n",
              "      <td>NaN</td>\n",
              "      <td>F</td>\n",
              "      <td>IL</td>\n",
              "    </tr>\n",
              "    <tr>\n",
              "      <th>193861</th>\n",
              "      <td>1053906</td>\n",
              "      <td>1992996458</td>\n",
              "      <td>Sleep Medicine</td>\n",
              "      <td>Y</td>\n",
              "      <td>14</td>\n",
              "      <td>1204.0</td>\n",
              "      <td>480</td>\n",
              "      <td>323712.00</td>\n",
              "      <td>127595.42</td>\n",
              "      <td>93749.86</td>\n",
              "      <td>...</td>\n",
              "      <td>US</td>\n",
              "      <td>5733022715</td>\n",
              "      <td>5.733023e+09</td>\n",
              "      <td>08/08/2007</td>\n",
              "      <td>04/19/2018</td>\n",
              "      <td>NaN</td>\n",
              "      <td>NaN</td>\n",
              "      <td>NaN</td>\n",
              "      <td>M</td>\n",
              "      <td>MO</td>\n",
              "    </tr>\n",
              "  </tbody>\n",
              "</table>\n",
              "<p>193862 rows × 105 columns</p>\n",
              "</div>\n",
              "    <div class=\"colab-df-buttons\">\n",
              "\n",
              "  <div class=\"colab-df-container\">\n",
              "    <button class=\"colab-df-convert\" onclick=\"convertToInteractive('df-890d8f15-5cc3-4c5c-93a7-a9fa3f793067')\"\n",
              "            title=\"Convert this dataframe to an interactive table.\"\n",
              "            style=\"display:none;\">\n",
              "\n",
              "  <svg xmlns=\"http://www.w3.org/2000/svg\" height=\"24px\" viewBox=\"0 -960 960 960\">\n",
              "    <path d=\"M120-120v-720h720v720H120Zm60-500h600v-160H180v160Zm220 220h160v-160H400v160Zm0 220h160v-160H400v160ZM180-400h160v-160H180v160Zm440 0h160v-160H620v160ZM180-180h160v-160H180v160Zm440 0h160v-160H620v160Z\"/>\n",
              "  </svg>\n",
              "    </button>\n",
              "\n",
              "  <style>\n",
              "    .colab-df-container {\n",
              "      display:flex;\n",
              "      gap: 12px;\n",
              "    }\n",
              "\n",
              "    .colab-df-convert {\n",
              "      background-color: #E8F0FE;\n",
              "      border: none;\n",
              "      border-radius: 50%;\n",
              "      cursor: pointer;\n",
              "      display: none;\n",
              "      fill: #1967D2;\n",
              "      height: 32px;\n",
              "      padding: 0 0 0 0;\n",
              "      width: 32px;\n",
              "    }\n",
              "\n",
              "    .colab-df-convert:hover {\n",
              "      background-color: #E2EBFA;\n",
              "      box-shadow: 0px 1px 2px rgba(60, 64, 67, 0.3), 0px 1px 3px 1px rgba(60, 64, 67, 0.15);\n",
              "      fill: #174EA6;\n",
              "    }\n",
              "\n",
              "    .colab-df-buttons div {\n",
              "      margin-bottom: 4px;\n",
              "    }\n",
              "\n",
              "    [theme=dark] .colab-df-convert {\n",
              "      background-color: #3B4455;\n",
              "      fill: #D2E3FC;\n",
              "    }\n",
              "\n",
              "    [theme=dark] .colab-df-convert:hover {\n",
              "      background-color: #434B5C;\n",
              "      box-shadow: 0px 1px 3px 1px rgba(0, 0, 0, 0.15);\n",
              "      filter: drop-shadow(0px 1px 2px rgba(0, 0, 0, 0.3));\n",
              "      fill: #FFFFFF;\n",
              "    }\n",
              "  </style>\n",
              "\n",
              "    <script>\n",
              "      const buttonEl =\n",
              "        document.querySelector('#df-890d8f15-5cc3-4c5c-93a7-a9fa3f793067 button.colab-df-convert');\n",
              "      buttonEl.style.display =\n",
              "        google.colab.kernel.accessAllowed ? 'block' : 'none';\n",
              "\n",
              "      async function convertToInteractive(key) {\n",
              "        const element = document.querySelector('#df-890d8f15-5cc3-4c5c-93a7-a9fa3f793067');\n",
              "        const dataTable =\n",
              "          await google.colab.kernel.invokeFunction('convertToInteractive',\n",
              "                                                    [key], {});\n",
              "        if (!dataTable) return;\n",
              "\n",
              "        const docLinkHtml = 'Like what you see? Visit the ' +\n",
              "          '<a target=\"_blank\" href=https://colab.research.google.com/notebooks/data_table.ipynb>data table notebook</a>'\n",
              "          + ' to learn more about interactive tables.';\n",
              "        element.innerHTML = '';\n",
              "        dataTable['output_type'] = 'display_data';\n",
              "        await google.colab.output.renderOutput(dataTable, element);\n",
              "        const docLink = document.createElement('div');\n",
              "        docLink.innerHTML = docLinkHtml;\n",
              "        element.appendChild(docLink);\n",
              "      }\n",
              "    </script>\n",
              "  </div>\n",
              "\n",
              "\n",
              "<div id=\"df-01c7c876-e86c-41fd-9813-363921589f74\">\n",
              "  <button class=\"colab-df-quickchart\" onclick=\"quickchart('df-01c7c876-e86c-41fd-9813-363921589f74')\"\n",
              "            title=\"Suggest charts\"\n",
              "            style=\"display:none;\">\n",
              "\n",
              "<svg xmlns=\"http://www.w3.org/2000/svg\" height=\"24px\"viewBox=\"0 0 24 24\"\n",
              "     width=\"24px\">\n",
              "    <g>\n",
              "        <path d=\"M19 3H5c-1.1 0-2 .9-2 2v14c0 1.1.9 2 2 2h14c1.1 0 2-.9 2-2V5c0-1.1-.9-2-2-2zM9 17H7v-7h2v7zm4 0h-2V7h2v10zm4 0h-2v-4h2v4z\"/>\n",
              "    </g>\n",
              "</svg>\n",
              "  </button>\n",
              "\n",
              "<style>\n",
              "  .colab-df-quickchart {\n",
              "      --bg-color: #E8F0FE;\n",
              "      --fill-color: #1967D2;\n",
              "      --hover-bg-color: #E2EBFA;\n",
              "      --hover-fill-color: #174EA6;\n",
              "      --disabled-fill-color: #AAA;\n",
              "      --disabled-bg-color: #DDD;\n",
              "  }\n",
              "\n",
              "  [theme=dark] .colab-df-quickchart {\n",
              "      --bg-color: #3B4455;\n",
              "      --fill-color: #D2E3FC;\n",
              "      --hover-bg-color: #434B5C;\n",
              "      --hover-fill-color: #FFFFFF;\n",
              "      --disabled-bg-color: #3B4455;\n",
              "      --disabled-fill-color: #666;\n",
              "  }\n",
              "\n",
              "  .colab-df-quickchart {\n",
              "    background-color: var(--bg-color);\n",
              "    border: none;\n",
              "    border-radius: 50%;\n",
              "    cursor: pointer;\n",
              "    display: none;\n",
              "    fill: var(--fill-color);\n",
              "    height: 32px;\n",
              "    padding: 0;\n",
              "    width: 32px;\n",
              "  }\n",
              "\n",
              "  .colab-df-quickchart:hover {\n",
              "    background-color: var(--hover-bg-color);\n",
              "    box-shadow: 0 1px 2px rgba(60, 64, 67, 0.3), 0 1px 3px 1px rgba(60, 64, 67, 0.15);\n",
              "    fill: var(--button-hover-fill-color);\n",
              "  }\n",
              "\n",
              "  .colab-df-quickchart-complete:disabled,\n",
              "  .colab-df-quickchart-complete:disabled:hover {\n",
              "    background-color: var(--disabled-bg-color);\n",
              "    fill: var(--disabled-fill-color);\n",
              "    box-shadow: none;\n",
              "  }\n",
              "\n",
              "  .colab-df-spinner {\n",
              "    border: 2px solid var(--fill-color);\n",
              "    border-color: transparent;\n",
              "    border-bottom-color: var(--fill-color);\n",
              "    animation:\n",
              "      spin 1s steps(1) infinite;\n",
              "  }\n",
              "\n",
              "  @keyframes spin {\n",
              "    0% {\n",
              "      border-color: transparent;\n",
              "      border-bottom-color: var(--fill-color);\n",
              "      border-left-color: var(--fill-color);\n",
              "    }\n",
              "    20% {\n",
              "      border-color: transparent;\n",
              "      border-left-color: var(--fill-color);\n",
              "      border-top-color: var(--fill-color);\n",
              "    }\n",
              "    30% {\n",
              "      border-color: transparent;\n",
              "      border-left-color: var(--fill-color);\n",
              "      border-top-color: var(--fill-color);\n",
              "      border-right-color: var(--fill-color);\n",
              "    }\n",
              "    40% {\n",
              "      border-color: transparent;\n",
              "      border-right-color: var(--fill-color);\n",
              "      border-top-color: var(--fill-color);\n",
              "    }\n",
              "    60% {\n",
              "      border-color: transparent;\n",
              "      border-right-color: var(--fill-color);\n",
              "    }\n",
              "    80% {\n",
              "      border-color: transparent;\n",
              "      border-right-color: var(--fill-color);\n",
              "      border-bottom-color: var(--fill-color);\n",
              "    }\n",
              "    90% {\n",
              "      border-color: transparent;\n",
              "      border-bottom-color: var(--fill-color);\n",
              "    }\n",
              "  }\n",
              "</style>\n",
              "\n",
              "  <script>\n",
              "    async function quickchart(key) {\n",
              "      const quickchartButtonEl =\n",
              "        document.querySelector('#' + key + ' button');\n",
              "      quickchartButtonEl.disabled = true;  // To prevent multiple clicks.\n",
              "      quickchartButtonEl.classList.add('colab-df-spinner');\n",
              "      try {\n",
              "        const charts = await google.colab.kernel.invokeFunction(\n",
              "            'suggestCharts', [key], {});\n",
              "      } catch (error) {\n",
              "        console.error('Error during call to suggestCharts:', error);\n",
              "      }\n",
              "      quickchartButtonEl.classList.remove('colab-df-spinner');\n",
              "      quickchartButtonEl.classList.add('colab-df-quickchart-complete');\n",
              "    }\n",
              "    (() => {\n",
              "      let quickchartButtonEl =\n",
              "        document.querySelector('#df-01c7c876-e86c-41fd-9813-363921589f74 button');\n",
              "      quickchartButtonEl.style.display =\n",
              "        google.colab.kernel.accessAllowed ? 'block' : 'none';\n",
              "    })();\n",
              "  </script>\n",
              "</div>\n",
              "    </div>\n",
              "  </div>\n"
            ]
          },
          "metadata": {},
          "execution_count": 14
        }
      ],
      "source": [
        "answer"
      ]
    },
    {
      "cell_type": "code",
      "source": [
        "answer.columns"
      ],
      "metadata": {
        "colab": {
          "base_uri": "https://localhost:8080/"
        },
        "id": "4kVb9GMNxLzk",
        "outputId": "5684d39d-48ee-4805-ce06-0d4192a96f87"
      },
      "execution_count": 15,
      "outputs": [
        {
          "output_type": "execute_result",
          "data": {
            "text/plain": [
              "Index(['nbr', 'npi', 'provider_type', 'medicare_participation_indicator',\n",
              "       'number_of_hcpcs', 'total_services', 'total_unique_benes',\n",
              "       'total_submitted_chrg_amt', 'total_medicare_allowed_amt',\n",
              "       'total_medicare_payment_amt',\n",
              "       ...\n",
              "       'Provider Business Practice Location Address Country Code (If outside U.S.)',\n",
              "       'Provider Business Practice Location Address Telephone Number',\n",
              "       'Provider Business Practice Location Address Fax Number',\n",
              "       'Provider Enumeration Date', 'Last Update Date',\n",
              "       'NPI Deactivation Reason Code', 'NPI Deactivation Date',\n",
              "       'NPI Reactivation Date', 'Provider Gender Code', 'State'],\n",
              "      dtype='object', length=105)"
            ]
          },
          "metadata": {},
          "execution_count": 15
        }
      ]
    },
    {
      "cell_type": "code",
      "execution_count": 16,
      "metadata": {
        "colab": {
          "base_uri": "https://localhost:8080/"
        },
        "id": "Eb5PRYDCIJiq",
        "outputId": "e2f4979a-9509-4033-b01c-c0e0864e82da"
      },
      "outputs": [
        {
          "output_type": "execute_result",
          "data": {
            "text/plain": [
              "State\n",
              "IL    111520\n",
              "MO     53366\n",
              "WY      4805\n",
              "XX     24171\n",
              "Name: npi, dtype: int64"
            ]
          },
          "metadata": {},
          "execution_count": 16
        }
      ],
      "source": [
        "answer.groupby('State').npi.count()"
      ]
    },
    {
      "cell_type": "code",
      "execution_count": 17,
      "metadata": {
        "id": "503H14qTAwph",
        "nbgrader": {
          "grade": true,
          "grade_id": "03-tests",
          "locked": true,
          "points": 5,
          "schema_version": 1,
          "solution": false
        },
        "scrolled": false
      },
      "outputs": [],
      "source": [
        "assert(list(answer.groupby('State').npi.count()) == [111520, 53366, 4805, 24171])\n",
        "assert(answer.shape == (193862, 105))"
      ]
    },
    {
      "cell_type": "markdown",
      "metadata": {
        "id": "5O1jMpj5Awph",
        "nbgrader": {
          "grade": false,
          "grade_id": "04-intro",
          "locked": true,
          "schema_version": 1,
          "solution": false
        }
      },
      "source": [
        "## Part 4\n",
        "\n",
        "Next, let's summarize the data by year and by State.  Create a pivot table that contains one row for each state and one column for each year.  Within the pivot table, put a sum of total services as the values.\n",
        "\n",
        "Assign `answer` to be that resulting pivot table.  In the tests, I'm going to plot a bar chart of your pivot table."
      ]
    },
    {
      "cell_type": "code",
      "execution_count": 18,
      "metadata": {
        "scrolled": true,
        "colab": {
          "base_uri": "https://localhost:8080/"
        },
        "id": "xqkJ8zYdIJiq",
        "outputId": "8b6a7db6-9adf-4761-e887-e9786e354590"
      },
      "outputs": [
        {
          "output_type": "execute_result",
          "data": {
            "text/plain": [
              "(193862, 105)"
            ]
          },
          "metadata": {},
          "execution_count": 18
        }
      ],
      "source": [
        "answer.shape"
      ]
    },
    {
      "cell_type": "markdown",
      "source": [
        "Pivot table"
      ],
      "metadata": {
        "id": "OoIFJ4huy5XV"
      }
    },
    {
      "cell_type": "code",
      "source": [
        "# Creating a pivot table to summarize data by year and state\n",
        "pivot_table = answer.pivot_table(values='total_services', index='State', columns='year', aggfunc='sum', fill_value=0)\n",
        "\n",
        "# Assigning the resulting pivot table to 'answer'\n",
        "answer= pivot_table\n"
      ],
      "metadata": {
        "id": "IRL1tPMiwE6H"
      },
      "execution_count": 19,
      "outputs": []
    },
    {
      "cell_type": "code",
      "execution_count": 20,
      "metadata": {
        "colab": {
          "base_uri": "https://localhost:8080/"
        },
        "id": "xNSV9CQHIJiq",
        "outputId": "afbbe5a1-1e93-46d9-db9d-0e9e7e2d14d0"
      },
      "outputs": [
        {
          "output_type": "execute_result",
          "data": {
            "text/plain": [
              "519185664.7"
            ]
          },
          "metadata": {},
          "execution_count": 20
        }
      ],
      "source": [
        "answer.sum().sum()"
      ]
    },
    {
      "cell_type": "code",
      "execution_count": 21,
      "metadata": {
        "colab": {
          "base_uri": "https://localhost:8080/"
        },
        "id": "Np4BOrSeIJir",
        "outputId": "d81fb3cb-c1bb-411e-ebb7-2b430e6917ab"
      },
      "outputs": [
        {
          "output_type": "execute_result",
          "data": {
            "text/plain": [
              "176596933.8"
            ]
          },
          "metadata": {},
          "execution_count": 21
        }
      ],
      "source": [
        "answer[2016].sum()"
      ]
    },
    {
      "cell_type": "code",
      "execution_count": 22,
      "metadata": {
        "colab": {
          "base_uri": "https://localhost:8080/"
        },
        "id": "Pd0BxfHYIJir",
        "outputId": "c5965dc9-4164-4c57-ecd1-2b0142bc0642"
      },
      "outputs": [
        {
          "output_type": "execute_result",
          "data": {
            "text/plain": [
              "10892707.4"
            ]
          },
          "metadata": {},
          "execution_count": 22
        }
      ],
      "source": [
        "answer.loc['WY'].sum()"
      ]
    },
    {
      "cell_type": "code",
      "execution_count": 23,
      "metadata": {
        "scrolled": true,
        "colab": {
          "base_uri": "https://localhost:8080/",
          "height": 206
        },
        "id": "BiZrvD-wIJir",
        "outputId": "c124213d-faff-4270-c81b-ce6866e90f4c"
      },
      "outputs": [
        {
          "output_type": "execute_result",
          "data": {
            "text/plain": [
              "year          2014         2015         2016\n",
              "State                                       \n",
              "IL     101393758.4  103048716.3  105432032.4\n",
              "MO      48577227.1   50808468.0   50854632.1\n",
              "WY       3487240.6    3800978.9    3604487.9\n",
              "XX      14938636.4   16533705.2   16705781.4"
            ],
            "text/html": [
              "\n",
              "  <div id=\"df-dba37352-b360-4a1c-8fac-03c0be3c90d6\" class=\"colab-df-container\">\n",
              "    <div>\n",
              "<style scoped>\n",
              "    .dataframe tbody tr th:only-of-type {\n",
              "        vertical-align: middle;\n",
              "    }\n",
              "\n",
              "    .dataframe tbody tr th {\n",
              "        vertical-align: top;\n",
              "    }\n",
              "\n",
              "    .dataframe thead th {\n",
              "        text-align: right;\n",
              "    }\n",
              "</style>\n",
              "<table border=\"1\" class=\"dataframe\">\n",
              "  <thead>\n",
              "    <tr style=\"text-align: right;\">\n",
              "      <th>year</th>\n",
              "      <th>2014</th>\n",
              "      <th>2015</th>\n",
              "      <th>2016</th>\n",
              "    </tr>\n",
              "    <tr>\n",
              "      <th>State</th>\n",
              "      <th></th>\n",
              "      <th></th>\n",
              "      <th></th>\n",
              "    </tr>\n",
              "  </thead>\n",
              "  <tbody>\n",
              "    <tr>\n",
              "      <th>IL</th>\n",
              "      <td>101393758.4</td>\n",
              "      <td>103048716.3</td>\n",
              "      <td>105432032.4</td>\n",
              "    </tr>\n",
              "    <tr>\n",
              "      <th>MO</th>\n",
              "      <td>48577227.1</td>\n",
              "      <td>50808468.0</td>\n",
              "      <td>50854632.1</td>\n",
              "    </tr>\n",
              "    <tr>\n",
              "      <th>WY</th>\n",
              "      <td>3487240.6</td>\n",
              "      <td>3800978.9</td>\n",
              "      <td>3604487.9</td>\n",
              "    </tr>\n",
              "    <tr>\n",
              "      <th>XX</th>\n",
              "      <td>14938636.4</td>\n",
              "      <td>16533705.2</td>\n",
              "      <td>16705781.4</td>\n",
              "    </tr>\n",
              "  </tbody>\n",
              "</table>\n",
              "</div>\n",
              "    <div class=\"colab-df-buttons\">\n",
              "\n",
              "  <div class=\"colab-df-container\">\n",
              "    <button class=\"colab-df-convert\" onclick=\"convertToInteractive('df-dba37352-b360-4a1c-8fac-03c0be3c90d6')\"\n",
              "            title=\"Convert this dataframe to an interactive table.\"\n",
              "            style=\"display:none;\">\n",
              "\n",
              "  <svg xmlns=\"http://www.w3.org/2000/svg\" height=\"24px\" viewBox=\"0 -960 960 960\">\n",
              "    <path d=\"M120-120v-720h720v720H120Zm60-500h600v-160H180v160Zm220 220h160v-160H400v160Zm0 220h160v-160H400v160ZM180-400h160v-160H180v160Zm440 0h160v-160H620v160ZM180-180h160v-160H180v160Zm440 0h160v-160H620v160Z\"/>\n",
              "  </svg>\n",
              "    </button>\n",
              "\n",
              "  <style>\n",
              "    .colab-df-container {\n",
              "      display:flex;\n",
              "      gap: 12px;\n",
              "    }\n",
              "\n",
              "    .colab-df-convert {\n",
              "      background-color: #E8F0FE;\n",
              "      border: none;\n",
              "      border-radius: 50%;\n",
              "      cursor: pointer;\n",
              "      display: none;\n",
              "      fill: #1967D2;\n",
              "      height: 32px;\n",
              "      padding: 0 0 0 0;\n",
              "      width: 32px;\n",
              "    }\n",
              "\n",
              "    .colab-df-convert:hover {\n",
              "      background-color: #E2EBFA;\n",
              "      box-shadow: 0px 1px 2px rgba(60, 64, 67, 0.3), 0px 1px 3px 1px rgba(60, 64, 67, 0.15);\n",
              "      fill: #174EA6;\n",
              "    }\n",
              "\n",
              "    .colab-df-buttons div {\n",
              "      margin-bottom: 4px;\n",
              "    }\n",
              "\n",
              "    [theme=dark] .colab-df-convert {\n",
              "      background-color: #3B4455;\n",
              "      fill: #D2E3FC;\n",
              "    }\n",
              "\n",
              "    [theme=dark] .colab-df-convert:hover {\n",
              "      background-color: #434B5C;\n",
              "      box-shadow: 0px 1px 3px 1px rgba(0, 0, 0, 0.15);\n",
              "      filter: drop-shadow(0px 1px 2px rgba(0, 0, 0, 0.3));\n",
              "      fill: #FFFFFF;\n",
              "    }\n",
              "  </style>\n",
              "\n",
              "    <script>\n",
              "      const buttonEl =\n",
              "        document.querySelector('#df-dba37352-b360-4a1c-8fac-03c0be3c90d6 button.colab-df-convert');\n",
              "      buttonEl.style.display =\n",
              "        google.colab.kernel.accessAllowed ? 'block' : 'none';\n",
              "\n",
              "      async function convertToInteractive(key) {\n",
              "        const element = document.querySelector('#df-dba37352-b360-4a1c-8fac-03c0be3c90d6');\n",
              "        const dataTable =\n",
              "          await google.colab.kernel.invokeFunction('convertToInteractive',\n",
              "                                                    [key], {});\n",
              "        if (!dataTable) return;\n",
              "\n",
              "        const docLinkHtml = 'Like what you see? Visit the ' +\n",
              "          '<a target=\"_blank\" href=https://colab.research.google.com/notebooks/data_table.ipynb>data table notebook</a>'\n",
              "          + ' to learn more about interactive tables.';\n",
              "        element.innerHTML = '';\n",
              "        dataTable['output_type'] = 'display_data';\n",
              "        await google.colab.output.renderOutput(dataTable, element);\n",
              "        const docLink = document.createElement('div');\n",
              "        docLink.innerHTML = docLinkHtml;\n",
              "        element.appendChild(docLink);\n",
              "      }\n",
              "    </script>\n",
              "  </div>\n",
              "\n",
              "\n",
              "<div id=\"df-0e7b2f0e-6625-45e0-bf1f-cd3a9e5a73f5\">\n",
              "  <button class=\"colab-df-quickchart\" onclick=\"quickchart('df-0e7b2f0e-6625-45e0-bf1f-cd3a9e5a73f5')\"\n",
              "            title=\"Suggest charts\"\n",
              "            style=\"display:none;\">\n",
              "\n",
              "<svg xmlns=\"http://www.w3.org/2000/svg\" height=\"24px\"viewBox=\"0 0 24 24\"\n",
              "     width=\"24px\">\n",
              "    <g>\n",
              "        <path d=\"M19 3H5c-1.1 0-2 .9-2 2v14c0 1.1.9 2 2 2h14c1.1 0 2-.9 2-2V5c0-1.1-.9-2-2-2zM9 17H7v-7h2v7zm4 0h-2V7h2v10zm4 0h-2v-4h2v4z\"/>\n",
              "    </g>\n",
              "</svg>\n",
              "  </button>\n",
              "\n",
              "<style>\n",
              "  .colab-df-quickchart {\n",
              "      --bg-color: #E8F0FE;\n",
              "      --fill-color: #1967D2;\n",
              "      --hover-bg-color: #E2EBFA;\n",
              "      --hover-fill-color: #174EA6;\n",
              "      --disabled-fill-color: #AAA;\n",
              "      --disabled-bg-color: #DDD;\n",
              "  }\n",
              "\n",
              "  [theme=dark] .colab-df-quickchart {\n",
              "      --bg-color: #3B4455;\n",
              "      --fill-color: #D2E3FC;\n",
              "      --hover-bg-color: #434B5C;\n",
              "      --hover-fill-color: #FFFFFF;\n",
              "      --disabled-bg-color: #3B4455;\n",
              "      --disabled-fill-color: #666;\n",
              "  }\n",
              "\n",
              "  .colab-df-quickchart {\n",
              "    background-color: var(--bg-color);\n",
              "    border: none;\n",
              "    border-radius: 50%;\n",
              "    cursor: pointer;\n",
              "    display: none;\n",
              "    fill: var(--fill-color);\n",
              "    height: 32px;\n",
              "    padding: 0;\n",
              "    width: 32px;\n",
              "  }\n",
              "\n",
              "  .colab-df-quickchart:hover {\n",
              "    background-color: var(--hover-bg-color);\n",
              "    box-shadow: 0 1px 2px rgba(60, 64, 67, 0.3), 0 1px 3px 1px rgba(60, 64, 67, 0.15);\n",
              "    fill: var(--button-hover-fill-color);\n",
              "  }\n",
              "\n",
              "  .colab-df-quickchart-complete:disabled,\n",
              "  .colab-df-quickchart-complete:disabled:hover {\n",
              "    background-color: var(--disabled-bg-color);\n",
              "    fill: var(--disabled-fill-color);\n",
              "    box-shadow: none;\n",
              "  }\n",
              "\n",
              "  .colab-df-spinner {\n",
              "    border: 2px solid var(--fill-color);\n",
              "    border-color: transparent;\n",
              "    border-bottom-color: var(--fill-color);\n",
              "    animation:\n",
              "      spin 1s steps(1) infinite;\n",
              "  }\n",
              "\n",
              "  @keyframes spin {\n",
              "    0% {\n",
              "      border-color: transparent;\n",
              "      border-bottom-color: var(--fill-color);\n",
              "      border-left-color: var(--fill-color);\n",
              "    }\n",
              "    20% {\n",
              "      border-color: transparent;\n",
              "      border-left-color: var(--fill-color);\n",
              "      border-top-color: var(--fill-color);\n",
              "    }\n",
              "    30% {\n",
              "      border-color: transparent;\n",
              "      border-left-color: var(--fill-color);\n",
              "      border-top-color: var(--fill-color);\n",
              "      border-right-color: var(--fill-color);\n",
              "    }\n",
              "    40% {\n",
              "      border-color: transparent;\n",
              "      border-right-color: var(--fill-color);\n",
              "      border-top-color: var(--fill-color);\n",
              "    }\n",
              "    60% {\n",
              "      border-color: transparent;\n",
              "      border-right-color: var(--fill-color);\n",
              "    }\n",
              "    80% {\n",
              "      border-color: transparent;\n",
              "      border-right-color: var(--fill-color);\n",
              "      border-bottom-color: var(--fill-color);\n",
              "    }\n",
              "    90% {\n",
              "      border-color: transparent;\n",
              "      border-bottom-color: var(--fill-color);\n",
              "    }\n",
              "  }\n",
              "</style>\n",
              "\n",
              "  <script>\n",
              "    async function quickchart(key) {\n",
              "      const quickchartButtonEl =\n",
              "        document.querySelector('#' + key + ' button');\n",
              "      quickchartButtonEl.disabled = true;  // To prevent multiple clicks.\n",
              "      quickchartButtonEl.classList.add('colab-df-spinner');\n",
              "      try {\n",
              "        const charts = await google.colab.kernel.invokeFunction(\n",
              "            'suggestCharts', [key], {});\n",
              "      } catch (error) {\n",
              "        console.error('Error during call to suggestCharts:', error);\n",
              "      }\n",
              "      quickchartButtonEl.classList.remove('colab-df-spinner');\n",
              "      quickchartButtonEl.classList.add('colab-df-quickchart-complete');\n",
              "    }\n",
              "    (() => {\n",
              "      let quickchartButtonEl =\n",
              "        document.querySelector('#df-0e7b2f0e-6625-45e0-bf1f-cd3a9e5a73f5 button');\n",
              "      quickchartButtonEl.style.display =\n",
              "        google.colab.kernel.accessAllowed ? 'block' : 'none';\n",
              "    })();\n",
              "  </script>\n",
              "</div>\n",
              "    </div>\n",
              "  </div>\n"
            ]
          },
          "metadata": {},
          "execution_count": 23
        }
      ],
      "source": [
        "answer"
      ]
    },
    {
      "cell_type": "code",
      "execution_count": 24,
      "metadata": {
        "id": "jMiUBo4BAwph",
        "nbgrader": {
          "grade": true,
          "grade_id": "04-tests",
          "locked": true,
          "points": 5,
          "schema_version": 1,
          "solution": false
        },
        "scrolled": true
      },
      "outputs": [],
      "source": [
        "assert(answer.shape == (4,3))\n",
        "assert(answer.sum().sum() == 519185664.7)\n",
        "assert(answer[2016].sum() == 176596933.8)\n",
        "assert(answer.loc['WY'].sum() == 10892707.4)"
      ]
    },
    {
      "cell_type": "code",
      "execution_count": 25,
      "metadata": {
        "id": "6snD9sOGAwph",
        "colab": {
          "base_uri": "https://localhost:8080/",
          "height": 490
        },
        "outputId": "f346c4ad-12eb-4528-f589-44fe942658fb"
      },
      "outputs": [
        {
          "output_type": "execute_result",
          "data": {
            "text/plain": [
              "<Axes: xlabel='State'>"
            ]
          },
          "metadata": {},
          "execution_count": 25
        },
        {
          "output_type": "display_data",
          "data": {
            "text/plain": [
              "<Figure size 640x480 with 1 Axes>"
            ],
            "image/png": "[encoded data removed]"
          },
          "metadata": {}
        }
      ],
      "source": [
        "%matplotlib inline\n",
        "answer.plot.bar()"
      ]
    }
  ],
  "metadata": {
    "celltoolbar": "Create Assignment",
    "colab": {
      "provenance": [],
      "include_colab_link": true
    },
    "kernelspec": {
      "display_name": "Python 3 (ipykernel)",
      "language": "python",
      "name": "python3"
    },
    "language_info": {
      "codemirror_mode": {
        "name": "ipython",
        "version": 3
      },
      "file_extension": ".py",
      "mimetype": "text/x-python",
      "name": "python",
      "nbconvert_exporter": "python",
      "pygments_lexer": "ipython3",
      "version": "3.11.5"
    }
  },
  "nbformat": 4,
  "nbformat_minor": 0
}